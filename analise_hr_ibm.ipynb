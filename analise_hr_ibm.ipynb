{
 "cells": [
  {
   "cell_type": "markdown",
   "id": "6e3a9439-097d-4f91-af02-5e18480e4d8f",
   "metadata": {},
   "source": [
    "# 1. Introdução"
   ]
  },
  {
   "cell_type": "code",
   "execution_count": 1,
   "id": "65ff6674-43a0-4b75-8b4a-1b2c2fba9d30",
   "metadata": {},
   "outputs": [
    {
     "ename": "SyntaxError",
     "evalue": "invalid syntax (2178754030.py, line 1)",
     "output_type": "error",
     "traceback": [
      "  \u001b[36mCell\u001b[39m\u001b[36m \u001b[39m\u001b[32mIn[1]\u001b[39m\u001b[32m, line 1\u001b[39m\n\u001b[31m    \u001b[39m\u001b[31mAnálise feita a partir do banco de dados do RH da IBM disponibilizada no site <a>https://www.kaggle.com/</a>\u001b[39m\n            ^\n\u001b[31mSyntaxError\u001b[39m\u001b[31m:\u001b[39m invalid syntax\n"
     ]
    }
   ],
   "source": [
    "Análise feita a partir do banco de dados do RH da IBM disponibilizada no site www.kaggle.com\n",
    "\n",
    "O objetivo dessa análise é praticar os conceitos de análise Univariada, Bivariada e Multivariada.\n",
    "\n",
    "A análise irá explorar os seguintes tópicos:\n",
    "- Distribuição Salarial dos Funcionários.\n",
    "- Satisfação no Trabalho\n",
    "- Tempo de Empresa dos Funcionários\n",
    "- Correlação entre Tempo na Empresa e Salário\n",
    "- Impacto do Trabalho Remoto nas Demissões\n",
    "- Gênero e Progressão na Carreira\n",
    "-\n",
    "-"
   ]
  }
 ],
 "metadata": {
  "kernelspec": {
   "display_name": "Python 3 (ipykernel)",
   "language": "python",
   "name": "python3"
  },
  "language_info": {
   "codemirror_mode": {
    "name": "ipython",
    "version": 3
   },
   "file_extension": ".py",
   "mimetype": "text/x-python",
   "name": "python",
   "nbconvert_exporter": "python",
   "pygments_lexer": "ipython3",
   "version": "3.12.3"
  }
 },
 "nbformat": 4,
 "nbformat_minor": 5
}
